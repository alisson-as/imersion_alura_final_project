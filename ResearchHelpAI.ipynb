{
  "nbformat": 4,
  "nbformat_minor": 0,
  "metadata": {
    "colab": {
      "provenance": [],
      "authorship_tag": "ABX9TyMDo8UWpb++skpjkOHOdscm",
      "include_colab_link": true
    },
    "kernelspec": {
      "name": "python3",
      "display_name": "Python 3"
    },
    "language_info": {
      "name": "python"
    }
  },
  "cells": [
    {
      "cell_type": "markdown",
      "metadata": {
        "id": "view-in-github",
        "colab_type": "text"
      },
      "source": [
        "<a href=\"https://colab.research.google.com/github/alisson-as/imersion_alura_final_project/blob/main/ResearchHelpAI.ipynb\" target=\"_parent\"><img src=\"https://colab.research.google.com/assets/colab-badge.svg\" alt=\"Open In Colab\"/></a>"
      ]
    },
    {
      "cell_type": "markdown",
      "source": [
        "### Instalaçoes bibliotecas"
      ],
      "metadata": {
        "id": "s8c8vlxg22aN"
      }
    },
    {
      "cell_type": "code",
      "source": [
        "!pip install -q -U PyPDF2\n",
        "!pip install -q -U google-generativeai"
      ],
      "metadata": {
        "id": "LolV_HVX24a-"
      },
      "execution_count": 3,
      "outputs": []
    },
    {
      "cell_type": "markdown",
      "source": [
        "## Importação das bibliotecas"
      ],
      "metadata": {
        "id": "j-BSxBtt3Adt"
      }
    },
    {
      "cell_type": "code",
      "source": [
        "from PyPDF2 import PdfReader\n",
        "import google.generativeai as genai\n",
        "from google.colab import userdata"
      ],
      "metadata": {
        "id": "DKcjLSEW3A7U"
      },
      "execution_count": 4,
      "outputs": []
    },
    {
      "cell_type": "markdown",
      "source": [
        "## Configuração para criação da variável do modelo"
      ],
      "metadata": {
        "id": "pQ08bAK13Dwq"
      }
    },
    {
      "cell_type": "code",
      "source": [
        "gen_config = {\n",
        "    'temperature': 0\n",
        "}"
      ],
      "metadata": {
        "id": "PMNTdYGC3SqP"
      },
      "execution_count": 6,
      "outputs": []
    },
    {
      "cell_type": "code",
      "source": [
        "model = genai.GenerativeModel(model_name='gemini-1.5-pro-latest',\n",
        "                              generation_config=gen_config)"
      ],
      "metadata": {
        "id": "3JUzDyQx3T-V"
      },
      "execution_count": 7,
      "outputs": []
    },
    {
      "cell_type": "code",
      "source": [
        "GOOGLE_API_KEY = userdata.get('key_secret')\n",
        "genai.configure(api_key=GOOGLE_API_KEY)"
      ],
      "metadata": {
        "id": "R9Fgzjsj3VXU"
      },
      "execution_count": 8,
      "outputs": []
    },
    {
      "cell_type": "markdown",
      "source": [
        "## Criação função para fazer o upload do arquivo pdf"
      ],
      "metadata": {
        "id": "-ETW3nat3ix5"
      }
    },
    {
      "cell_type": "code",
      "source": [
        "def extract_pdf_pages(pathname: str):\n",
        "\n",
        "  list_pages = []\n",
        "\n",
        "  with open(pathname, \"rb\") as input_pdf:\n",
        "    pdf_reader = PdfReader(input_pdf) # Criando um objeto PdfFileReader\n",
        "    num_pages = len(pdf_reader.pages) # Obtendo o número de páginas do arquivo PDF\n",
        "\n",
        "    # Lendo o texto de cada página e retornando uma string\n",
        "    for page_number in range(num_pages):\n",
        "        page = pdf_reader.pages[page_number]\n",
        "        text = page.extract_text()\n",
        "        list_pages.append(text)\n",
        "\n",
        "  return list_pages"
      ],
      "metadata": {
        "id": "PhVkPGwb3Wuw"
      },
      "execution_count": 9,
      "outputs": []
    },
    {
      "cell_type": "markdown",
      "source": [
        "## Criação da requisição da API e montagem da estrutura de recebimento do pdf"
      ],
      "metadata": {
        "id": "GzUIwgdw3oAp"
      }
    },
    {
      "cell_type": "code",
      "source": [
        "chat = model.start_chat(history=[\n",
        "  {\n",
        "    \"role\": \"model\",\n",
        "    \"parts\": extract_pdf_pages(\"/content/article_test.pdf\")\n",
        "  },\n",
        "])\n",
        "\n",
        "prompt = input('Formule uma pergunta ao arquivo pdf: ')\n",
        "\n",
        "while prompt != 'fim':\n",
        "  chat.send_message(prompt)\n",
        "  print(chat.last.text)\n",
        "  prompt = input('Formule outra pergunta ao arquivo pdf: ')"
      ],
      "metadata": {
        "colab": {
          "base_uri": "https://localhost:8080/",
          "height": 298
        },
        "id": "sicVFOaK3Z07",
        "outputId": "2d632ff8-ebd8-4f8e-ef56-4fd0a1818649"
      },
      "execution_count": 15,
      "outputs": [
        {
          "name": "stdout",
          "output_type": "stream",
          "text": [
            "Formule uma pergunta ao arquivo pdf: Resumo em 50 palavras\n",
            "Este artigo analisa a modelagem e previsão de chegadas em call centers, destacando propriedades importantes como dependência temporal, sobredispersão e dependências entre dias e tipos de chamada. O artigo revisa vários métodos de previsão, incluindo modelos de efeitos fixos, modelos de efeitos mistos e técnicas Bayesianas, e apresenta um estudo de caso avaliando a precisão da previsão usando dados reais de call center. \n",
            "\n",
            "Formule outra pergunta ao arquivo pdf: Qual ideia chave?\n",
            "A ideia chave do artigo é que a modelagem e previsão precisas das chegadas em call centers são cruciais para uma gestão eficiente, e que vários métodos sofisticados, levando em consideração as propriedades complexas dos processos de chegada, foram desenvolvidos para melhorar a precisão da previsão. \n",
            "\n",
            "Formule outra pergunta ao arquivo pdf: Quais autores?\n",
            "Os autores do artigo são:\n",
            "\n",
            "* Rouba Ibrahim\n",
            "* Han Ye\n",
            "* Pierre L'Ecuyer\n",
            "* Haipeng Shen \n",
            "\n",
            "Formule outra pergunta ao arquivo pdf: fim\n"
          ]
        }
      ]
    }
  ]
}